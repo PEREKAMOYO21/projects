{
  "nbformat": 4,
  "nbformat_minor": 0,
  "metadata": {
    "colab": {
      "provenance": []
    },
    "kernelspec": {
      "name": "python3",
      "display_name": "Python 3"
    },
    "language_info": {
      "name": "python"
    }
  },
  "cells": [
    {
      "cell_type": "markdown",
      "source": [
        " 1). Python. Given an array of integers, find the sum of its elements.\n",
        "\tFor example, if the array ar = [1,2,3],\n",
        "                          Calculate 1+2+3 = 6, so return 6."
      ],
      "metadata": {
        "id": "nnsByrgU9deh"
      }
    },
    {
      "cell_type": "code",
      "execution_count": 5,
      "metadata": {
        "colab": {
          "base_uri": "https://localhost:8080/"
        },
        "id": "whyX-y975jYQ",
        "outputId": "65a5a52b-d05c-4020-e90d-3421361d1d86"
      },
      "outputs": [
        {
          "output_type": "stream",
          "name": "stdout",
          "text": [
            "6\n"
          ]
        }
      ],
      "source": [
        "def sum_array(arr):\n",
        "    total = 0\n",
        "    for num in arr:\n",
        "        total += num\n",
        "    return total\n",
        "    \n",
        "ar = [1, 2, 3]\n",
        "print(sum_array(ar)) "
      ]
    },
    {
      "cell_type": "markdown",
      "source": [
        "2). SQL.  Julia conducted a days of learning SQL contest. The start date of the contest was March 01, 2016 and the end date was March 15, 2016.\n",
        "Write a query to print total number of unique hackers who made at least submission each day (starting on the first day of the contest), and find the hacker_id and name of the hacker who made maximum number of submissions each day. If more than one such hacker has a maximum number of submissions, print the lowest hacker_id. The query should print this information for each day of the contest, sorted by the date.\n",
        "Here is the challenge on Hacker Rank: https://www.hackerrank.com/challenges/15-days-of-learning-sql/problem"
      ],
      "metadata": {
        "id": "OgQk3vno94bm"
      }
    },
    {
      "cell_type": "code",
      "source": [
        "Query= \"\"\"\n",
        "select s.submission_date,\n",
        "    (select count(hc.hacker_id) from (\n",
        "    select hacker_id,count(distinct submission_date) as subs from submissions \n",
        "    where submission_date<=s.submission_date\n",
        "    group by hacker_id\n",
        "    having count(distinct submission_date)=day(s.submission_date)) as hc),\n",
        "(select top 1 si.hacker_id from submissions si where si.submission_date=s.submission_date group by si.hacker_id order by count(*) desc,si.hacker_id),\n",
        "(select top 1 h.name from submissions si join hackers h on h.hacker_id=si.hacker_id where si.submission_date=s.submission_date group by si.hacker_id,h.name order by count(*) desc,si.hacker_id) \n",
        "from submissions s\n",
        "group by s.submission_date\n",
        "order by s.submission_date\n",
        "\"\"\""
      ],
      "metadata": {
        "id": "vwvZEs9H-Vxz"
      },
      "execution_count": null,
      "outputs": []
    }
  ]
}